{
 "cells": [
  {
   "cell_type": "code",
   "execution_count": 1,
   "id": "5f70118e",
   "metadata": {
    "_cell_guid": "b1076dfc-b9ad-4769-8c92-a6c4dae69d19",
    "_uuid": "8f2839f25d086af736a60e9eeb907d3b93b6e0e5",
    "execution": {
     "iopub.execute_input": "2025-03-23T05:06:02.947269Z",
     "iopub.status.busy": "2025-03-23T05:06:02.946971Z",
     "iopub.status.idle": "2025-03-23T05:06:16.223347Z",
     "shell.execute_reply": "2025-03-23T05:06:16.222422Z"
    },
    "papermill": {
     "duration": 13.285164,
     "end_time": "2025-03-23T05:06:16.225778",
     "exception": false,
     "start_time": "2025-03-23T05:06:02.940614",
     "status": "completed"
    },
    "tags": []
   },
   "outputs": [],
   "source": [
    "import numpy as np\n",
    "import pandas as pd\n",
    "import re\n",
    "import nltk\n",
    "from nltk.corpus import stopwords\n",
    "from nltk.tokenize import word_tokenize\n",
    "from tensorflow.keras.preprocessing.text import Tokenizer\n",
    "from tensorflow.keras.preprocessing.sequence import pad_sequences\n",
    "from sklearn.model_selection import train_test_split\n",
    "import tensorflow as tf\n",
    "from tensorflow.keras.models import Sequential\n",
    "from tensorflow.keras.layers import Embedding, LSTM, Dense, Dropout\n",
    "from sklearn.metrics import accuracy_score, classification_report\n",
    "from tensorflow.keras.optimizers import RMSprop\n",
    "from tensorflow.keras.optimizers import Adam"
   ]
  },
  {
   "cell_type": "code",
   "execution_count": 2,
   "id": "e0c946c9",
   "metadata": {
    "execution": {
     "iopub.execute_input": "2025-03-23T05:06:16.240414Z",
     "iopub.status.busy": "2025-03-23T05:06:16.239963Z",
     "iopub.status.idle": "2025-03-23T05:06:21.376268Z",
     "shell.execute_reply": "2025-03-23T05:06:21.375579Z"
    },
    "papermill": {
     "duration": 5.144295,
     "end_time": "2025-03-23T05:06:21.377967",
     "exception": false,
     "start_time": "2025-03-23T05:06:16.233672",
     "status": "completed"
    },
    "tags": []
   },
   "outputs": [],
   "source": [
    "# Load the dataset (adjust the path if necessary)\n",
    "df = pd.read_csv(\"/kaggle/input/sentiment140/training.1600000.processed.noemoticon.csv\", \n",
    "                 encoding=\"latin-1\", header=None)  "
   ]
  },
  {
   "cell_type": "code",
   "execution_count": 3,
   "id": "1c803234",
   "metadata": {
    "execution": {
     "iopub.execute_input": "2025-03-23T05:06:21.388599Z",
     "iopub.status.busy": "2025-03-23T05:06:21.388368Z",
     "iopub.status.idle": "2025-03-23T05:06:21.410178Z",
     "shell.execute_reply": "2025-03-23T05:06:21.409424Z"
    },
    "papermill": {
     "duration": 0.028173,
     "end_time": "2025-03-23T05:06:21.411392",
     "exception": false,
     "start_time": "2025-03-23T05:06:21.383219",
     "status": "completed"
    },
    "tags": []
   },
   "outputs": [
    {
     "data": {
      "text/html": [
       "<div>\n",
       "<style scoped>\n",
       "    .dataframe tbody tr th:only-of-type {\n",
       "        vertical-align: middle;\n",
       "    }\n",
       "\n",
       "    .dataframe tbody tr th {\n",
       "        vertical-align: top;\n",
       "    }\n",
       "\n",
       "    .dataframe thead th {\n",
       "        text-align: right;\n",
       "    }\n",
       "</style>\n",
       "<table border=\"1\" class=\"dataframe\">\n",
       "  <thead>\n",
       "    <tr style=\"text-align: right;\">\n",
       "      <th></th>\n",
       "      <th>0</th>\n",
       "      <th>1</th>\n",
       "      <th>2</th>\n",
       "      <th>3</th>\n",
       "      <th>4</th>\n",
       "      <th>5</th>\n",
       "    </tr>\n",
       "  </thead>\n",
       "  <tbody>\n",
       "    <tr>\n",
       "      <th>0</th>\n",
       "      <td>0</td>\n",
       "      <td>1467810369</td>\n",
       "      <td>Mon Apr 06 22:19:45 PDT 2009</td>\n",
       "      <td>NO_QUERY</td>\n",
       "      <td>_TheSpecialOne_</td>\n",
       "      <td>@switchfoot http://twitpic.com/2y1zl - Awww, t...</td>\n",
       "    </tr>\n",
       "    <tr>\n",
       "      <th>1</th>\n",
       "      <td>0</td>\n",
       "      <td>1467810672</td>\n",
       "      <td>Mon Apr 06 22:19:49 PDT 2009</td>\n",
       "      <td>NO_QUERY</td>\n",
       "      <td>scotthamilton</td>\n",
       "      <td>is upset that he can't update his Facebook by ...</td>\n",
       "    </tr>\n",
       "    <tr>\n",
       "      <th>2</th>\n",
       "      <td>0</td>\n",
       "      <td>1467810917</td>\n",
       "      <td>Mon Apr 06 22:19:53 PDT 2009</td>\n",
       "      <td>NO_QUERY</td>\n",
       "      <td>mattycus</td>\n",
       "      <td>@Kenichan I dived many times for the ball. Man...</td>\n",
       "    </tr>\n",
       "    <tr>\n",
       "      <th>3</th>\n",
       "      <td>0</td>\n",
       "      <td>1467811184</td>\n",
       "      <td>Mon Apr 06 22:19:57 PDT 2009</td>\n",
       "      <td>NO_QUERY</td>\n",
       "      <td>ElleCTF</td>\n",
       "      <td>my whole body feels itchy and like its on fire</td>\n",
       "    </tr>\n",
       "    <tr>\n",
       "      <th>4</th>\n",
       "      <td>0</td>\n",
       "      <td>1467811193</td>\n",
       "      <td>Mon Apr 06 22:19:57 PDT 2009</td>\n",
       "      <td>NO_QUERY</td>\n",
       "      <td>Karoli</td>\n",
       "      <td>@nationwideclass no, it's not behaving at all....</td>\n",
       "    </tr>\n",
       "  </tbody>\n",
       "</table>\n",
       "</div>"
      ],
      "text/plain": [
       "   0           1                             2         3                4  \\\n",
       "0  0  1467810369  Mon Apr 06 22:19:45 PDT 2009  NO_QUERY  _TheSpecialOne_   \n",
       "1  0  1467810672  Mon Apr 06 22:19:49 PDT 2009  NO_QUERY    scotthamilton   \n",
       "2  0  1467810917  Mon Apr 06 22:19:53 PDT 2009  NO_QUERY         mattycus   \n",
       "3  0  1467811184  Mon Apr 06 22:19:57 PDT 2009  NO_QUERY          ElleCTF   \n",
       "4  0  1467811193  Mon Apr 06 22:19:57 PDT 2009  NO_QUERY           Karoli   \n",
       "\n",
       "                                                   5  \n",
       "0  @switchfoot http://twitpic.com/2y1zl - Awww, t...  \n",
       "1  is upset that he can't update his Facebook by ...  \n",
       "2  @Kenichan I dived many times for the ball. Man...  \n",
       "3    my whole body feels itchy and like its on fire   \n",
       "4  @nationwideclass no, it's not behaving at all....  "
      ]
     },
     "execution_count": 3,
     "metadata": {},
     "output_type": "execute_result"
    }
   ],
   "source": [
    "# Display the first few rows\n",
    "df.head()"
   ]
  },
  {
   "cell_type": "code",
   "execution_count": 4,
   "id": "f5ce2704",
   "metadata": {
    "execution": {
     "iopub.execute_input": "2025-03-23T05:06:21.421241Z",
     "iopub.status.busy": "2025-03-23T05:06:21.421034Z",
     "iopub.status.idle": "2025-03-23T05:06:21.424002Z",
     "shell.execute_reply": "2025-03-23T05:06:21.423440Z"
    },
    "papermill": {
     "duration": 0.009147,
     "end_time": "2025-03-23T05:06:21.425192",
     "exception": false,
     "start_time": "2025-03-23T05:06:21.416045",
     "status": "completed"
    },
    "tags": []
   },
   "outputs": [],
   "source": [
    "# Assign column names\n",
    "df.columns = [\"sentiment\", \"id\", \"date\", \"query\", \"user\", \"text\"]"
   ]
  },
  {
   "cell_type": "code",
   "execution_count": 5,
   "id": "ce445c45",
   "metadata": {
    "execution": {
     "iopub.execute_input": "2025-03-23T05:06:21.435138Z",
     "iopub.status.busy": "2025-03-23T05:06:21.434941Z",
     "iopub.status.idle": "2025-03-23T05:06:21.476195Z",
     "shell.execute_reply": "2025-03-23T05:06:21.475534Z"
    },
    "papermill": {
     "duration": 0.047543,
     "end_time": "2025-03-23T05:06:21.477435",
     "exception": false,
     "start_time": "2025-03-23T05:06:21.429892",
     "status": "completed"
    },
    "tags": []
   },
   "outputs": [],
   "source": [
    "# Drop unnecessary columns\n",
    "df = df[[\"sentiment\", \"text\"]]"
   ]
  },
  {
   "cell_type": "code",
   "execution_count": 6,
   "id": "f08da6db",
   "metadata": {
    "execution": {
     "iopub.execute_input": "2025-03-23T05:06:21.487268Z",
     "iopub.status.busy": "2025-03-23T05:06:21.487066Z",
     "iopub.status.idle": "2025-03-23T05:06:21.511139Z",
     "shell.execute_reply": "2025-03-23T05:06:21.510516Z"
    },
    "papermill": {
     "duration": 0.030391,
     "end_time": "2025-03-23T05:06:21.512538",
     "exception": false,
     "start_time": "2025-03-23T05:06:21.482147",
     "status": "completed"
    },
    "tags": []
   },
   "outputs": [],
   "source": [
    "# Map sentiment labels to 0 (negative) and 1 (positive)\n",
    "df[\"sentiment\"] = df[\"sentiment\"].map({0: 0, 4: 1})"
   ]
  },
  {
   "cell_type": "code",
   "execution_count": 7,
   "id": "7e8669ab",
   "metadata": {
    "execution": {
     "iopub.execute_input": "2025-03-23T05:06:21.522293Z",
     "iopub.status.busy": "2025-03-23T05:06:21.522066Z",
     "iopub.status.idle": "2025-03-23T05:06:21.528568Z",
     "shell.execute_reply": "2025-03-23T05:06:21.527739Z"
    },
    "papermill": {
     "duration": 0.012823,
     "end_time": "2025-03-23T05:06:21.530055",
     "exception": false,
     "start_time": "2025-03-23T05:06:21.517232",
     "status": "completed"
    },
    "tags": []
   },
   "outputs": [
    {
     "data": {
      "text/html": [
       "<div>\n",
       "<style scoped>\n",
       "    .dataframe tbody tr th:only-of-type {\n",
       "        vertical-align: middle;\n",
       "    }\n",
       "\n",
       "    .dataframe tbody tr th {\n",
       "        vertical-align: top;\n",
       "    }\n",
       "\n",
       "    .dataframe thead th {\n",
       "        text-align: right;\n",
       "    }\n",
       "</style>\n",
       "<table border=\"1\" class=\"dataframe\">\n",
       "  <thead>\n",
       "    <tr style=\"text-align: right;\">\n",
       "      <th></th>\n",
       "      <th>sentiment</th>\n",
       "      <th>text</th>\n",
       "    </tr>\n",
       "  </thead>\n",
       "  <tbody>\n",
       "    <tr>\n",
       "      <th>0</th>\n",
       "      <td>0</td>\n",
       "      <td>@switchfoot http://twitpic.com/2y1zl - Awww, t...</td>\n",
       "    </tr>\n",
       "    <tr>\n",
       "      <th>1</th>\n",
       "      <td>0</td>\n",
       "      <td>is upset that he can't update his Facebook by ...</td>\n",
       "    </tr>\n",
       "    <tr>\n",
       "      <th>2</th>\n",
       "      <td>0</td>\n",
       "      <td>@Kenichan I dived many times for the ball. Man...</td>\n",
       "    </tr>\n",
       "    <tr>\n",
       "      <th>3</th>\n",
       "      <td>0</td>\n",
       "      <td>my whole body feels itchy and like its on fire</td>\n",
       "    </tr>\n",
       "    <tr>\n",
       "      <th>4</th>\n",
       "      <td>0</td>\n",
       "      <td>@nationwideclass no, it's not behaving at all....</td>\n",
       "    </tr>\n",
       "  </tbody>\n",
       "</table>\n",
       "</div>"
      ],
      "text/plain": [
       "   sentiment                                               text\n",
       "0          0  @switchfoot http://twitpic.com/2y1zl - Awww, t...\n",
       "1          0  is upset that he can't update his Facebook by ...\n",
       "2          0  @Kenichan I dived many times for the ball. Man...\n",
       "3          0    my whole body feels itchy and like its on fire \n",
       "4          0  @nationwideclass no, it's not behaving at all...."
      ]
     },
     "execution_count": 7,
     "metadata": {},
     "output_type": "execute_result"
    }
   ],
   "source": [
    "# Check the dataset again\n",
    "df.head()"
   ]
  },
  {
   "cell_type": "code",
   "execution_count": 8,
   "id": "536085fb",
   "metadata": {
    "execution": {
     "iopub.execute_input": "2025-03-23T05:06:21.539845Z",
     "iopub.status.busy": "2025-03-23T05:06:21.539609Z",
     "iopub.status.idle": "2025-03-23T05:06:21.546264Z",
     "shell.execute_reply": "2025-03-23T05:06:21.545696Z"
    },
    "papermill": {
     "duration": 0.012792,
     "end_time": "2025-03-23T05:06:21.547379",
     "exception": false,
     "start_time": "2025-03-23T05:06:21.534587",
     "status": "completed"
    },
    "tags": []
   },
   "outputs": [],
   "source": [
    "# Define stopwords\n",
    "stop_words = set(stopwords.words('english'))"
   ]
  },
  {
   "cell_type": "code",
   "execution_count": 9,
   "id": "85760c00",
   "metadata": {
    "execution": {
     "iopub.execute_input": "2025-03-23T05:06:21.557025Z",
     "iopub.status.busy": "2025-03-23T05:06:21.556832Z",
     "iopub.status.idle": "2025-03-23T05:06:21.560691Z",
     "shell.execute_reply": "2025-03-23T05:06:21.560074Z"
    },
    "papermill": {
     "duration": 0.010022,
     "end_time": "2025-03-23T05:06:21.561991",
     "exception": false,
     "start_time": "2025-03-23T05:06:21.551969",
     "status": "completed"
    },
    "tags": []
   },
   "outputs": [],
   "source": [
    "# Function to clean tweets\n",
    "def clean_text(text):\n",
    "    text = text.lower()  # Convert to lowercase\n",
    "    text = re.sub(r\"http\\S+|www\\S+|https\\S+\", '', text, flags=re.MULTILINE)  # Remove URLs\n",
    "    text = re.sub(r'\\@\\w+|\\#','', text)  # Remove mentions and hashtags\n",
    "    text = re.sub(r'[^a-zA-Z\\s]', '', text)  # Remove special characters and numbers\n",
    "    words = word_tokenize(text)  # Tokenize\n",
    "    words = [word for word in words if word not in stop_words]  # Remove stopwords\n",
    "    return \" \".join(words)"
   ]
  },
  {
   "cell_type": "code",
   "execution_count": 10,
   "id": "11eeaff3",
   "metadata": {
    "execution": {
     "iopub.execute_input": "2025-03-23T05:06:21.571757Z",
     "iopub.status.busy": "2025-03-23T05:06:21.571563Z",
     "iopub.status.idle": "2025-03-23T05:08:56.839800Z",
     "shell.execute_reply": "2025-03-23T05:08:56.839082Z"
    },
    "papermill": {
     "duration": 155.274963,
     "end_time": "2025-03-23T05:08:56.841549",
     "exception": false,
     "start_time": "2025-03-23T05:06:21.566586",
     "status": "completed"
    },
    "tags": []
   },
   "outputs": [],
   "source": [
    "# Apply cleaning function to the text column\n",
    "df[\"cleaned_text\"] = df[\"text\"].apply(clean_text)"
   ]
  },
  {
   "cell_type": "code",
   "execution_count": 11,
   "id": "5bf56148",
   "metadata": {
    "execution": {
     "iopub.execute_input": "2025-03-23T05:08:56.852205Z",
     "iopub.status.busy": "2025-03-23T05:08:56.851979Z",
     "iopub.status.idle": "2025-03-23T05:08:56.859134Z",
     "shell.execute_reply": "2025-03-23T05:08:56.858389Z"
    },
    "papermill": {
     "duration": 0.013556,
     "end_time": "2025-03-23T05:08:56.860379",
     "exception": false,
     "start_time": "2025-03-23T05:08:56.846823",
     "status": "completed"
    },
    "tags": []
   },
   "outputs": [
    {
     "data": {
      "text/html": [
       "<div>\n",
       "<style scoped>\n",
       "    .dataframe tbody tr th:only-of-type {\n",
       "        vertical-align: middle;\n",
       "    }\n",
       "\n",
       "    .dataframe tbody tr th {\n",
       "        vertical-align: top;\n",
       "    }\n",
       "\n",
       "    .dataframe thead th {\n",
       "        text-align: right;\n",
       "    }\n",
       "</style>\n",
       "<table border=\"1\" class=\"dataframe\">\n",
       "  <thead>\n",
       "    <tr style=\"text-align: right;\">\n",
       "      <th></th>\n",
       "      <th>sentiment</th>\n",
       "      <th>text</th>\n",
       "      <th>cleaned_text</th>\n",
       "    </tr>\n",
       "  </thead>\n",
       "  <tbody>\n",
       "    <tr>\n",
       "      <th>0</th>\n",
       "      <td>0</td>\n",
       "      <td>@switchfoot http://twitpic.com/2y1zl - Awww, t...</td>\n",
       "      <td>thats bummer shoulda got david carr third day</td>\n",
       "    </tr>\n",
       "    <tr>\n",
       "      <th>1</th>\n",
       "      <td>0</td>\n",
       "      <td>is upset that he can't update his Facebook by ...</td>\n",
       "      <td>upset cant update facebook texting might cry r...</td>\n",
       "    </tr>\n",
       "    <tr>\n",
       "      <th>2</th>\n",
       "      <td>0</td>\n",
       "      <td>@Kenichan I dived many times for the ball. Man...</td>\n",
       "      <td>dived many times ball managed save rest go bounds</td>\n",
       "    </tr>\n",
       "    <tr>\n",
       "      <th>3</th>\n",
       "      <td>0</td>\n",
       "      <td>my whole body feels itchy and like its on fire</td>\n",
       "      <td>whole body feels itchy like fire</td>\n",
       "    </tr>\n",
       "    <tr>\n",
       "      <th>4</th>\n",
       "      <td>0</td>\n",
       "      <td>@nationwideclass no, it's not behaving at all....</td>\n",
       "      <td>behaving im mad cant see</td>\n",
       "    </tr>\n",
       "  </tbody>\n",
       "</table>\n",
       "</div>"
      ],
      "text/plain": [
       "   sentiment                                               text  \\\n",
       "0          0  @switchfoot http://twitpic.com/2y1zl - Awww, t...   \n",
       "1          0  is upset that he can't update his Facebook by ...   \n",
       "2          0  @Kenichan I dived many times for the ball. Man...   \n",
       "3          0    my whole body feels itchy and like its on fire    \n",
       "4          0  @nationwideclass no, it's not behaving at all....   \n",
       "\n",
       "                                        cleaned_text  \n",
       "0      thats bummer shoulda got david carr third day  \n",
       "1  upset cant update facebook texting might cry r...  \n",
       "2  dived many times ball managed save rest go bounds  \n",
       "3                   whole body feels itchy like fire  \n",
       "4                           behaving im mad cant see  "
      ]
     },
     "execution_count": 11,
     "metadata": {},
     "output_type": "execute_result"
    }
   ],
   "source": [
    "# Check cleaned tweets\n",
    "df.head()"
   ]
  },
  {
   "cell_type": "code",
   "execution_count": 12,
   "id": "5cff5053",
   "metadata": {
    "execution": {
     "iopub.execute_input": "2025-03-23T05:08:56.870941Z",
     "iopub.status.busy": "2025-03-23T05:08:56.870687Z",
     "iopub.status.idle": "2025-03-23T05:08:56.873362Z",
     "shell.execute_reply": "2025-03-23T05:08:56.872803Z"
    },
    "papermill": {
     "duration": 0.009458,
     "end_time": "2025-03-23T05:08:56.874458",
     "exception": false,
     "start_time": "2025-03-23T05:08:56.865000",
     "status": "completed"
    },
    "tags": []
   },
   "outputs": [],
   "source": [
    "# Hyperparameters\n",
    "MAX_VOCAB_SIZE = 20000\n",
    "MAX_SEQUENCE_LENGTH = 50"
   ]
  },
  {
   "cell_type": "code",
   "execution_count": 13,
   "id": "d085be77",
   "metadata": {
    "execution": {
     "iopub.execute_input": "2025-03-23T05:08:56.884294Z",
     "iopub.status.busy": "2025-03-23T05:08:56.884100Z",
     "iopub.status.idle": "2025-03-23T05:09:15.005730Z",
     "shell.execute_reply": "2025-03-23T05:09:15.004823Z"
    },
    "papermill": {
     "duration": 18.128442,
     "end_time": "2025-03-23T05:09:15.007475",
     "exception": false,
     "start_time": "2025-03-23T05:08:56.879033",
     "status": "completed"
    },
    "tags": []
   },
   "outputs": [],
   "source": [
    "# Tokenize the text\n",
    "tokenizer = Tokenizer(num_words=MAX_VOCAB_SIZE, oov_token=\"<OOV>\")  # Out-of-vocabulary token\n",
    "tokenizer.fit_on_texts(df[\"cleaned_text\"])"
   ]
  },
  {
   "cell_type": "code",
   "execution_count": 14,
   "id": "db2d9fd8",
   "metadata": {
    "execution": {
     "iopub.execute_input": "2025-03-23T05:09:15.018276Z",
     "iopub.status.busy": "2025-03-23T05:09:15.018007Z",
     "iopub.status.idle": "2025-03-23T05:09:31.329953Z",
     "shell.execute_reply": "2025-03-23T05:09:31.329187Z"
    },
    "papermill": {
     "duration": 16.31885,
     "end_time": "2025-03-23T05:09:31.331504",
     "exception": false,
     "start_time": "2025-03-23T05:09:15.012654",
     "status": "completed"
    },
    "tags": []
   },
   "outputs": [],
   "source": [
    "# Convert text to sequences of integers\n",
    "sequences = tokenizer.texts_to_sequences(df[\"cleaned_text\"])"
   ]
  },
  {
   "cell_type": "code",
   "execution_count": 15,
   "id": "37422ca3",
   "metadata": {
    "execution": {
     "iopub.execute_input": "2025-03-23T05:09:31.342466Z",
     "iopub.status.busy": "2025-03-23T05:09:31.342244Z",
     "iopub.status.idle": "2025-03-23T05:09:34.731597Z",
     "shell.execute_reply": "2025-03-23T05:09:34.730829Z"
    },
    "papermill": {
     "duration": 3.39647,
     "end_time": "2025-03-23T05:09:34.733225",
     "exception": false,
     "start_time": "2025-03-23T05:09:31.336755",
     "status": "completed"
    },
    "tags": []
   },
   "outputs": [],
   "source": [
    "# Apply padding to make sequences the same length\n",
    "padded_sequences = pad_sequences(sequences, maxlen=MAX_SEQUENCE_LENGTH, padding=\"post\")"
   ]
  },
  {
   "cell_type": "code",
   "execution_count": 16,
   "id": "ee12c60c",
   "metadata": {
    "execution": {
     "iopub.execute_input": "2025-03-23T05:09:34.744051Z",
     "iopub.status.busy": "2025-03-23T05:09:34.743775Z",
     "iopub.status.idle": "2025-03-23T05:09:34.749118Z",
     "shell.execute_reply": "2025-03-23T05:09:34.748232Z"
    },
    "papermill": {
     "duration": 0.012024,
     "end_time": "2025-03-23T05:09:34.750400",
     "exception": false,
     "start_time": "2025-03-23T05:09:34.738376",
     "status": "completed"
    },
    "tags": []
   },
   "outputs": [
    {
     "name": "stdout",
     "output_type": "stream",
     "text": [
      "Sample original text: thats bummer shoulda got david carr third day\n",
      "Tokenized sequence: [44, 1088, 3297, 8, 753, 9568, 1722, 4]\n",
      "Padded sequence: [  44 1088 3297    8  753 9568 1722    4    0    0    0    0    0    0\n",
      "    0    0    0    0    0    0    0    0    0    0    0    0    0    0\n",
      "    0    0    0    0    0    0    0    0    0    0    0    0    0    0\n",
      "    0    0    0    0    0    0    0    0]\n"
     ]
    }
   ],
   "source": [
    "# Check output\n",
    "print(f\"Sample original text: {df['cleaned_text'].iloc[0]}\")\n",
    "print(f\"Tokenized sequence: {sequences[0]}\")\n",
    "print(f\"Padded sequence: {padded_sequences[0]}\")"
   ]
  },
  {
   "cell_type": "code",
   "execution_count": 17,
   "id": "ca4143a1",
   "metadata": {
    "execution": {
     "iopub.execute_input": "2025-03-23T05:09:34.760459Z",
     "iopub.status.busy": "2025-03-23T05:09:34.760229Z",
     "iopub.status.idle": "2025-03-23T05:09:34.766099Z",
     "shell.execute_reply": "2025-03-23T05:09:34.765244Z"
    },
    "papermill": {
     "duration": 0.012175,
     "end_time": "2025-03-23T05:09:34.767244",
     "exception": false,
     "start_time": "2025-03-23T05:09:34.755069",
     "status": "completed"
    },
    "tags": []
   },
   "outputs": [],
   "source": [
    "# Convert labels to numpy array\n",
    "labels = np.array(df[\"sentiment\"])"
   ]
  },
  {
   "cell_type": "code",
   "execution_count": 18,
   "id": "fb947b35",
   "metadata": {
    "execution": {
     "iopub.execute_input": "2025-03-23T05:09:34.777091Z",
     "iopub.status.busy": "2025-03-23T05:09:34.776864Z",
     "iopub.status.idle": "2025-03-23T05:09:35.031843Z",
     "shell.execute_reply": "2025-03-23T05:09:35.030877Z"
    },
    "papermill": {
     "duration": 0.261619,
     "end_time": "2025-03-23T05:09:35.033446",
     "exception": false,
     "start_time": "2025-03-23T05:09:34.771827",
     "status": "completed"
    },
    "tags": []
   },
   "outputs": [],
   "source": [
    "# Split into training (80%) and validation (20%) sets\n",
    "X_train, X_val, y_train, y_val = train_test_split(padded_sequences, labels, test_size=0.2, random_state=42)"
   ]
  },
  {
   "cell_type": "code",
   "execution_count": 19,
   "id": "0152bbd3",
   "metadata": {
    "execution": {
     "iopub.execute_input": "2025-03-23T05:09:35.044276Z",
     "iopub.status.busy": "2025-03-23T05:09:35.044013Z",
     "iopub.status.idle": "2025-03-23T05:09:35.048357Z",
     "shell.execute_reply": "2025-03-23T05:09:35.047515Z"
    },
    "papermill": {
     "duration": 0.011124,
     "end_time": "2025-03-23T05:09:35.049652",
     "exception": false,
     "start_time": "2025-03-23T05:09:35.038528",
     "status": "completed"
    },
    "tags": []
   },
   "outputs": [
    {
     "name": "stdout",
     "output_type": "stream",
     "text": [
      "Training set: (1280000, 50), (1280000,)\n",
      "Validation set: (320000, 50), (320000,)\n"
     ]
    }
   ],
   "source": [
    "# Check shapes\n",
    "print(f\"Training set: {X_train.shape}, {y_train.shape}\")\n",
    "print(f\"Validation set: {X_val.shape}, {y_val.shape}\")"
   ]
  },
  {
   "cell_type": "code",
   "execution_count": 20,
   "id": "f74369fe",
   "metadata": {
    "execution": {
     "iopub.execute_input": "2025-03-23T05:09:35.059693Z",
     "iopub.status.busy": "2025-03-23T05:09:35.059456Z",
     "iopub.status.idle": "2025-03-23T05:09:35.062727Z",
     "shell.execute_reply": "2025-03-23T05:09:35.061953Z"
    },
    "papermill": {
     "duration": 0.009628,
     "end_time": "2025-03-23T05:09:35.064025",
     "exception": false,
     "start_time": "2025-03-23T05:09:35.054397",
     "status": "completed"
    },
    "tags": []
   },
   "outputs": [],
   "source": [
    "# Hyperparameters\n",
    "EMBEDDING_DIM = 100  # Word vector size\n",
    "LSTM_UNITS = 128  # LSTM cell size\n",
    "DROPOUT_RATE = 0.2  # Dropout for regularization"
   ]
  },
  {
   "cell_type": "code",
   "execution_count": 21,
   "id": "98df3ed5",
   "metadata": {
    "execution": {
     "iopub.execute_input": "2025-03-23T05:09:35.074310Z",
     "iopub.status.busy": "2025-03-23T05:09:35.074111Z",
     "iopub.status.idle": "2025-03-23T05:09:36.056393Z",
     "shell.execute_reply": "2025-03-23T05:09:36.055442Z"
    },
    "papermill": {
     "duration": 0.989166,
     "end_time": "2025-03-23T05:09:36.057952",
     "exception": false,
     "start_time": "2025-03-23T05:09:35.068786",
     "status": "completed"
    },
    "tags": []
   },
   "outputs": [
    {
     "name": "stderr",
     "output_type": "stream",
     "text": [
      "/usr/local/lib/python3.10/dist-packages/keras/src/layers/core/embedding.py:90: UserWarning: Argument `input_length` is deprecated. Just remove it.\n",
      "  warnings.warn(\n"
     ]
    }
   ],
   "source": [
    "# Tokenizer already fitted earlier, so get vocab size\n",
    "vocab_size = len(tokenizer.word_index) + 1  # Add 1 for padding token\n",
    "max_len = max(len(seq) for seq in X_train)  # Get max sequence length from training data\n",
    "\n",
    "model = Sequential([\n",
    "    Embedding(vocab_size, 128, input_length=max_len),\n",
    "    LSTM(64, return_sequences=True),\n",
    "    Dropout(0.2),\n",
    "    LSTM(64),\n",
    "    Dropout(0.3),\n",
    "    Dense(1, activation='sigmoid')\n",
    "])\n",
    "\n",
    "optimizer = Adam(learning_rate=0.0005)  # Keep reduced LR for stability\n",
    "model.compile(loss='binary_crossentropy', optimizer=optimizer, metrics=['accuracy'])"
   ]
  },
  {
   "cell_type": "code",
   "execution_count": 22,
   "id": "95b9cba3",
   "metadata": {
    "execution": {
     "iopub.execute_input": "2025-03-23T05:09:36.068656Z",
     "iopub.status.busy": "2025-03-23T05:09:36.068421Z",
     "iopub.status.idle": "2025-03-23T05:09:36.082654Z",
     "shell.execute_reply": "2025-03-23T05:09:36.081860Z"
    },
    "papermill": {
     "duration": 0.020809,
     "end_time": "2025-03-23T05:09:36.083897",
     "exception": false,
     "start_time": "2025-03-23T05:09:36.063088",
     "status": "completed"
    },
    "tags": []
   },
   "outputs": [
    {
     "data": {
      "text/html": [
       "<pre style=\"white-space:pre;overflow-x:auto;line-height:normal;font-family:Menlo,'DejaVu Sans Mono',consolas,'Courier New',monospace\"><span style=\"font-weight: bold\">Model: \"sequential\"</span>\n",
       "</pre>\n"
      ],
      "text/plain": [
       "\u001b[1mModel: \"sequential\"\u001b[0m\n"
      ]
     },
     "metadata": {},
     "output_type": "display_data"
    },
    {
     "data": {
      "text/html": [
       "<pre style=\"white-space:pre;overflow-x:auto;line-height:normal;font-family:Menlo,'DejaVu Sans Mono',consolas,'Courier New',monospace\">┏━━━━━━━━━━━━━━━━━━━━━━━━━━━━━━━━━━━━━━┳━━━━━━━━━━━━━━━━━━━━━━━━━━━━━┳━━━━━━━━━━━━━━━━━┓\n",
       "┃<span style=\"font-weight: bold\"> Layer (type)                         </span>┃<span style=\"font-weight: bold\"> Output Shape                </span>┃<span style=\"font-weight: bold\">         Param # </span>┃\n",
       "┡━━━━━━━━━━━━━━━━━━━━━━━━━━━━━━━━━━━━━━╇━━━━━━━━━━━━━━━━━━━━━━━━━━━━━╇━━━━━━━━━━━━━━━━━┩\n",
       "│ embedding (<span style=\"color: #0087ff; text-decoration-color: #0087ff\">Embedding</span>)                │ ?                           │     <span style=\"color: #00af00; text-decoration-color: #00af00\">0</span> (unbuilt) │\n",
       "├──────────────────────────────────────┼─────────────────────────────┼─────────────────┤\n",
       "│ lstm (<span style=\"color: #0087ff; text-decoration-color: #0087ff\">LSTM</span>)                          │ ?                           │     <span style=\"color: #00af00; text-decoration-color: #00af00\">0</span> (unbuilt) │\n",
       "├──────────────────────────────────────┼─────────────────────────────┼─────────────────┤\n",
       "│ dropout (<span style=\"color: #0087ff; text-decoration-color: #0087ff\">Dropout</span>)                    │ ?                           │     <span style=\"color: #00af00; text-decoration-color: #00af00\">0</span> (unbuilt) │\n",
       "├──────────────────────────────────────┼─────────────────────────────┼─────────────────┤\n",
       "│ lstm_1 (<span style=\"color: #0087ff; text-decoration-color: #0087ff\">LSTM</span>)                        │ ?                           │     <span style=\"color: #00af00; text-decoration-color: #00af00\">0</span> (unbuilt) │\n",
       "├──────────────────────────────────────┼─────────────────────────────┼─────────────────┤\n",
       "│ dropout_1 (<span style=\"color: #0087ff; text-decoration-color: #0087ff\">Dropout</span>)                  │ ?                           │     <span style=\"color: #00af00; text-decoration-color: #00af00\">0</span> (unbuilt) │\n",
       "├──────────────────────────────────────┼─────────────────────────────┼─────────────────┤\n",
       "│ dense (<span style=\"color: #0087ff; text-decoration-color: #0087ff\">Dense</span>)                        │ ?                           │     <span style=\"color: #00af00; text-decoration-color: #00af00\">0</span> (unbuilt) │\n",
       "└──────────────────────────────────────┴─────────────────────────────┴─────────────────┘\n",
       "</pre>\n"
      ],
      "text/plain": [
       "┏━━━━━━━━━━━━━━━━━━━━━━━━━━━━━━━━━━━━━━┳━━━━━━━━━━━━━━━━━━━━━━━━━━━━━┳━━━━━━━━━━━━━━━━━┓\n",
       "┃\u001b[1m \u001b[0m\u001b[1mLayer (type)                        \u001b[0m\u001b[1m \u001b[0m┃\u001b[1m \u001b[0m\u001b[1mOutput Shape               \u001b[0m\u001b[1m \u001b[0m┃\u001b[1m \u001b[0m\u001b[1m        Param #\u001b[0m\u001b[1m \u001b[0m┃\n",
       "┡━━━━━━━━━━━━━━━━━━━━━━━━━━━━━━━━━━━━━━╇━━━━━━━━━━━━━━━━━━━━━━━━━━━━━╇━━━━━━━━━━━━━━━━━┩\n",
       "│ embedding (\u001b[38;5;33mEmbedding\u001b[0m)                │ ?                           │     \u001b[38;5;34m0\u001b[0m (unbuilt) │\n",
       "├──────────────────────────────────────┼─────────────────────────────┼─────────────────┤\n",
       "│ lstm (\u001b[38;5;33mLSTM\u001b[0m)                          │ ?                           │     \u001b[38;5;34m0\u001b[0m (unbuilt) │\n",
       "├──────────────────────────────────────┼─────────────────────────────┼─────────────────┤\n",
       "│ dropout (\u001b[38;5;33mDropout\u001b[0m)                    │ ?                           │     \u001b[38;5;34m0\u001b[0m (unbuilt) │\n",
       "├──────────────────────────────────────┼─────────────────────────────┼─────────────────┤\n",
       "│ lstm_1 (\u001b[38;5;33mLSTM\u001b[0m)                        │ ?                           │     \u001b[38;5;34m0\u001b[0m (unbuilt) │\n",
       "├──────────────────────────────────────┼─────────────────────────────┼─────────────────┤\n",
       "│ dropout_1 (\u001b[38;5;33mDropout\u001b[0m)                  │ ?                           │     \u001b[38;5;34m0\u001b[0m (unbuilt) │\n",
       "├──────────────────────────────────────┼─────────────────────────────┼─────────────────┤\n",
       "│ dense (\u001b[38;5;33mDense\u001b[0m)                        │ ?                           │     \u001b[38;5;34m0\u001b[0m (unbuilt) │\n",
       "└──────────────────────────────────────┴─────────────────────────────┴─────────────────┘\n"
      ]
     },
     "metadata": {},
     "output_type": "display_data"
    },
    {
     "data": {
      "text/html": [
       "<pre style=\"white-space:pre;overflow-x:auto;line-height:normal;font-family:Menlo,'DejaVu Sans Mono',consolas,'Courier New',monospace\"><span style=\"font-weight: bold\"> Total params: </span><span style=\"color: #00af00; text-decoration-color: #00af00\">0</span> (0.00 B)\n",
       "</pre>\n"
      ],
      "text/plain": [
       "\u001b[1m Total params: \u001b[0m\u001b[38;5;34m0\u001b[0m (0.00 B)\n"
      ]
     },
     "metadata": {},
     "output_type": "display_data"
    },
    {
     "data": {
      "text/html": [
       "<pre style=\"white-space:pre;overflow-x:auto;line-height:normal;font-family:Menlo,'DejaVu Sans Mono',consolas,'Courier New',monospace\"><span style=\"font-weight: bold\"> Trainable params: </span><span style=\"color: #00af00; text-decoration-color: #00af00\">0</span> (0.00 B)\n",
       "</pre>\n"
      ],
      "text/plain": [
       "\u001b[1m Trainable params: \u001b[0m\u001b[38;5;34m0\u001b[0m (0.00 B)\n"
      ]
     },
     "metadata": {},
     "output_type": "display_data"
    },
    {
     "data": {
      "text/html": [
       "<pre style=\"white-space:pre;overflow-x:auto;line-height:normal;font-family:Menlo,'DejaVu Sans Mono',consolas,'Courier New',monospace\"><span style=\"font-weight: bold\"> Non-trainable params: </span><span style=\"color: #00af00; text-decoration-color: #00af00\">0</span> (0.00 B)\n",
       "</pre>\n"
      ],
      "text/plain": [
       "\u001b[1m Non-trainable params: \u001b[0m\u001b[38;5;34m0\u001b[0m (0.00 B)\n"
      ]
     },
     "metadata": {},
     "output_type": "display_data"
    }
   ],
   "source": [
    "# Model summary\n",
    "model.summary()"
   ]
  },
  {
   "cell_type": "code",
   "execution_count": 23,
   "id": "32aeac3d",
   "metadata": {
    "execution": {
     "iopub.execute_input": "2025-03-23T05:09:36.095373Z",
     "iopub.status.busy": "2025-03-23T05:09:36.095133Z",
     "iopub.status.idle": "2025-03-23T08:36:28.836219Z",
     "shell.execute_reply": "2025-03-23T08:36:28.835390Z"
    },
    "papermill": {
     "duration": 12412.74821,
     "end_time": "2025-03-23T08:36:28.837617",
     "exception": false,
     "start_time": "2025-03-23T05:09:36.089407",
     "status": "completed"
    },
    "tags": []
   },
   "outputs": [
    {
     "name": "stdout",
     "output_type": "stream",
     "text": [
      "Epoch 1/15\n",
      "\u001b[1m40000/40000\u001b[0m \u001b[32m━━━━━━━━━━━━━━━━━━━━\u001b[0m\u001b[37m\u001b[0m \u001b[1m834s\u001b[0m 21ms/step - accuracy: 0.5011 - loss: 0.6933 - val_accuracy: 0.4984 - val_loss: 0.6932\n",
      "Epoch 2/15\n",
      "\u001b[1m40000/40000\u001b[0m \u001b[32m━━━━━━━━━━━━━━━━━━━━\u001b[0m\u001b[37m\u001b[0m \u001b[1m826s\u001b[0m 21ms/step - accuracy: 0.4996 - loss: 0.6932 - val_accuracy: 0.4984 - val_loss: 0.6932\n",
      "Epoch 3/15\n",
      "\u001b[1m40000/40000\u001b[0m \u001b[32m━━━━━━━━━━━━━━━━━━━━\u001b[0m\u001b[37m\u001b[0m \u001b[1m826s\u001b[0m 21ms/step - accuracy: 0.4996 - loss: 0.6932 - val_accuracy: 0.5016 - val_loss: 0.6932\n",
      "Epoch 4/15\n",
      "\u001b[1m40000/40000\u001b[0m \u001b[32m━━━━━━━━━━━━━━━━━━━━\u001b[0m\u001b[37m\u001b[0m \u001b[1m826s\u001b[0m 21ms/step - accuracy: 0.5001 - loss: 0.6932 - val_accuracy: 0.4984 - val_loss: 0.6931\n",
      "Epoch 5/15\n",
      "\u001b[1m40000/40000\u001b[0m \u001b[32m━━━━━━━━━━━━━━━━━━━━\u001b[0m\u001b[37m\u001b[0m \u001b[1m827s\u001b[0m 21ms/step - accuracy: 0.4992 - loss: 0.6932 - val_accuracy: 0.5016 - val_loss: 0.6931\n",
      "Epoch 6/15\n",
      "\u001b[1m40000/40000\u001b[0m \u001b[32m━━━━━━━━━━━━━━━━━━━━\u001b[0m\u001b[37m\u001b[0m \u001b[1m828s\u001b[0m 21ms/step - accuracy: 0.4998 - loss: 0.6932 - val_accuracy: 0.5016 - val_loss: 0.6932\n",
      "Epoch 7/15\n",
      "\u001b[1m40000/40000\u001b[0m \u001b[32m━━━━━━━━━━━━━━━━━━━━\u001b[0m\u001b[37m\u001b[0m \u001b[1m827s\u001b[0m 21ms/step - accuracy: 0.5007 - loss: 0.6932 - val_accuracy: 0.4984 - val_loss: 0.6932\n",
      "Epoch 8/15\n",
      "\u001b[1m40000/40000\u001b[0m \u001b[32m━━━━━━━━━━━━━━━━━━━━\u001b[0m\u001b[37m\u001b[0m \u001b[1m827s\u001b[0m 21ms/step - accuracy: 0.4997 - loss: 0.6932 - val_accuracy: 0.5016 - val_loss: 0.6932\n",
      "Epoch 9/15\n",
      "\u001b[1m40000/40000\u001b[0m \u001b[32m━━━━━━━━━━━━━━━━━━━━\u001b[0m\u001b[37m\u001b[0m \u001b[1m828s\u001b[0m 21ms/step - accuracy: 0.5002 - loss: 0.6932 - val_accuracy: 0.4984 - val_loss: 0.6931\n",
      "Epoch 10/15\n",
      "\u001b[1m40000/40000\u001b[0m \u001b[32m━━━━━━━━━━━━━━━━━━━━\u001b[0m\u001b[37m\u001b[0m \u001b[1m826s\u001b[0m 21ms/step - accuracy: 0.4995 - loss: 0.6932 - val_accuracy: 0.5016 - val_loss: 0.6932\n",
      "Epoch 11/15\n",
      "\u001b[1m40000/40000\u001b[0m \u001b[32m━━━━━━━━━━━━━━━━━━━━\u001b[0m\u001b[37m\u001b[0m \u001b[1m827s\u001b[0m 21ms/step - accuracy: 0.5005 - loss: 0.6932 - val_accuracy: 0.5016 - val_loss: 0.6932\n",
      "Epoch 12/15\n",
      "\u001b[1m40000/40000\u001b[0m \u001b[32m━━━━━━━━━━━━━━━━━━━━\u001b[0m\u001b[37m\u001b[0m \u001b[1m826s\u001b[0m 21ms/step - accuracy: 0.5001 - loss: 0.6932 - val_accuracy: 0.4984 - val_loss: 0.6932\n",
      "Epoch 13/15\n",
      "\u001b[1m40000/40000\u001b[0m \u001b[32m━━━━━━━━━━━━━━━━━━━━\u001b[0m\u001b[37m\u001b[0m \u001b[1m827s\u001b[0m 21ms/step - accuracy: 0.5004 - loss: 0.6932 - val_accuracy: 0.5016 - val_loss: 0.6931\n",
      "Epoch 14/15\n",
      "\u001b[1m40000/40000\u001b[0m \u001b[32m━━━━━━━━━━━━━━━━━━━━\u001b[0m\u001b[37m\u001b[0m \u001b[1m828s\u001b[0m 21ms/step - accuracy: 0.5001 - loss: 0.6932 - val_accuracy: 0.4984 - val_loss: 0.6932\n",
      "Epoch 15/15\n",
      "\u001b[1m40000/40000\u001b[0m \u001b[32m━━━━━━━━━━━━━━━━━━━━\u001b[0m\u001b[37m\u001b[0m \u001b[1m828s\u001b[0m 21ms/step - accuracy: 0.5005 - loss: 0.6932 - val_accuracy: 0.5016 - val_loss: 0.6931\n"
     ]
    }
   ],
   "source": [
    "history = model.fit(X_train, y_train, epochs=15, batch_size=32, validation_data=(X_val, y_val))"
   ]
  },
  {
   "cell_type": "code",
   "execution_count": 24,
   "id": "8f5d547b",
   "metadata": {
    "execution": {
     "iopub.execute_input": "2025-03-23T08:36:49.300929Z",
     "iopub.status.busy": "2025-03-23T08:36:49.300591Z",
     "iopub.status.idle": "2025-03-23T08:37:19.795802Z",
     "shell.execute_reply": "2025-03-23T08:37:19.795073Z"
    },
    "papermill": {
     "duration": 40.675599,
     "end_time": "2025-03-23T08:37:19.797379",
     "exception": false,
     "start_time": "2025-03-23T08:36:39.121780",
     "status": "completed"
    },
    "tags": []
   },
   "outputs": [
    {
     "name": "stdout",
     "output_type": "stream",
     "text": [
      "\u001b[1m10000/10000\u001b[0m \u001b[32m━━━━━━━━━━━━━━━━━━━━\u001b[0m\u001b[37m\u001b[0m \u001b[1m25s\u001b[0m 2ms/step\n"
     ]
    }
   ],
   "source": [
    "# Predict on the validation set\n",
    "y_pred = model.predict(X_val)\n",
    "y_pred = (y_pred > 0.5).astype(int)  # Convert probabilities to binary (0 or 1)"
   ]
  },
  {
   "cell_type": "code",
   "execution_count": 25,
   "id": "1f3ea6c1",
   "metadata": {
    "execution": {
     "iopub.execute_input": "2025-03-23T08:37:40.553165Z",
     "iopub.status.busy": "2025-03-23T08:37:40.552842Z",
     "iopub.status.idle": "2025-03-23T08:37:40.566519Z",
     "shell.execute_reply": "2025-03-23T08:37:40.565546Z"
    },
    "papermill": {
     "duration": 10.481371,
     "end_time": "2025-03-23T08:37:40.567782",
     "exception": false,
     "start_time": "2025-03-23T08:37:30.086411",
     "status": "completed"
    },
    "tags": []
   },
   "outputs": [
    {
     "name": "stdout",
     "output_type": "stream",
     "text": [
      "Validation Accuracy: 0.5016\n"
     ]
    }
   ],
   "source": [
    "# Calculate accuracy\n",
    "accuracy = accuracy_score(y_val, y_pred)\n",
    "print(f\"Validation Accuracy: {accuracy:.4f}\")"
   ]
  },
  {
   "cell_type": "code",
   "execution_count": 26,
   "id": "5284e627",
   "metadata": {
    "execution": {
     "iopub.execute_input": "2025-03-23T08:38:01.272845Z",
     "iopub.status.busy": "2025-03-23T08:38:01.272488Z",
     "iopub.status.idle": "2025-03-23T08:38:01.378273Z",
     "shell.execute_reply": "2025-03-23T08:38:01.377332Z"
    },
    "papermill": {
     "duration": 10.502925,
     "end_time": "2025-03-23T08:38:01.379487",
     "exception": false,
     "start_time": "2025-03-23T08:37:50.876562",
     "status": "completed"
    },
    "tags": []
   },
   "outputs": [
    {
     "name": "stdout",
     "output_type": "stream",
     "text": [
      "Classification Report:\n",
      "               precision    recall  f1-score   support\n",
      "\n",
      "           0       0.00      0.00      0.00    159494\n",
      "           1       0.50      1.00      0.67    160506\n",
      "\n",
      "    accuracy                           0.50    320000\n",
      "   macro avg       0.25      0.50      0.33    320000\n",
      "weighted avg       0.25      0.50      0.34    320000\n",
      "\n"
     ]
    },
    {
     "name": "stderr",
     "output_type": "stream",
     "text": [
      "/usr/local/lib/python3.10/dist-packages/sklearn/metrics/_classification.py:1344: UndefinedMetricWarning: Precision and F-score are ill-defined and being set to 0.0 in labels with no predicted samples. Use `zero_division` parameter to control this behavior.\n",
      "  _warn_prf(average, modifier, msg_start, len(result))\n",
      "/usr/local/lib/python3.10/dist-packages/sklearn/metrics/_classification.py:1344: UndefinedMetricWarning: Precision and F-score are ill-defined and being set to 0.0 in labels with no predicted samples. Use `zero_division` parameter to control this behavior.\n",
      "  _warn_prf(average, modifier, msg_start, len(result))\n",
      "/usr/local/lib/python3.10/dist-packages/sklearn/metrics/_classification.py:1344: UndefinedMetricWarning: Precision and F-score are ill-defined and being set to 0.0 in labels with no predicted samples. Use `zero_division` parameter to control this behavior.\n",
      "  _warn_prf(average, modifier, msg_start, len(result))\n"
     ]
    }
   ],
   "source": [
    "# Detailed classification report\n",
    "print(\"Classification Report:\\n\", classification_report(y_val, y_pred))"
   ]
  },
  {
   "cell_type": "code",
   "execution_count": null,
   "id": "1796b501",
   "metadata": {
    "papermill": {
     "duration": 10.370665,
     "end_time": "2025-03-23T08:38:22.192181",
     "exception": false,
     "start_time": "2025-03-23T08:38:11.821516",
     "status": "completed"
    },
    "tags": []
   },
   "outputs": [],
   "source": []
  }
 ],
 "metadata": {
  "kaggle": {
   "accelerator": "gpu",
   "dataSources": [
    {
     "datasetId": 2477,
     "sourceId": 4140,
     "sourceType": "datasetVersion"
    }
   ],
   "dockerImageVersionId": 30919,
   "isGpuEnabled": true,
   "isInternetEnabled": true,
   "language": "python",
   "sourceType": "notebook"
  },
  "kernelspec": {
   "display_name": "Python 3",
   "language": "python",
   "name": "python3"
  },
  "language_info": {
   "codemirror_mode": {
    "name": "ipython",
    "version": 3
   },
   "file_extension": ".py",
   "mimetype": "text/x-python",
   "name": "python",
   "nbconvert_exporter": "python",
   "pygments_lexer": "ipython3",
   "version": "3.10.12"
  },
  "papermill": {
   "default_parameters": {},
   "duration": 12754.768438,
   "end_time": "2025-03-23T08:38:35.159517",
   "environment_variables": {},
   "exception": null,
   "input_path": "__notebook__.ipynb",
   "output_path": "__notebook__.ipynb",
   "parameters": {},
   "start_time": "2025-03-23T05:06:00.391079",
   "version": "2.6.0"
  }
 },
 "nbformat": 4,
 "nbformat_minor": 5
}
